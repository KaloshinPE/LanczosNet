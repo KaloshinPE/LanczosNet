{
 "cells": [
  {
   "cell_type": "code",
   "execution_count": 1,
   "metadata": {
    "ExecuteTime": {
     "end_time": "2018-12-19T17:32:57.771974Z",
     "start_time": "2018-12-19T17:32:57.159559Z"
    }
   },
   "outputs": [],
   "source": [
    "import numpy as np\n",
    "import scipy\n",
    "from scipy.linalg import sqrtm\n",
    "import scipy.sparse as sp\n",
    "from scipy.sparse import coo_matrix, csr_matrix\n",
    "import matplotlib.pyplot as plt\n",
    "import networkx as nx\n",
    "from tqdm import tqdm_notebook as tqdm\n",
    "import torch\n",
    "from torch import nn\n",
    "import torch.nn.functional as F\n",
    "import torch.optim as optim\n",
    "from IPython.display import clear_output\n",
    "\n",
    "from lanczos import lanczos_algorithm, process_adjacency_matrix\n",
    "from pygcn.pygcn.utils import load_data, encode_onehot, normalize, accuracy\n",
    "from nn.layers import SpectralConv, ExpKernel\n",
    "from pygcn.pygcn.layers import GraphConvolution\n",
    "\n",
    "%load_ext autoreload\n",
    "%autoreload 2\n",
    "%matplotlib inline\n",
    "plt.rcParams['figure.figsize'] = (7, 5)"
   ]
  },
  {
   "cell_type": "markdown",
   "metadata": {},
   "source": [
    "# Quora citation dataset"
   ]
  },
  {
   "cell_type": "markdown",
   "metadata": {},
   "source": [
    "## Data processing"
   ]
  },
  {
   "cell_type": "code",
   "execution_count": 2,
   "metadata": {
    "ExecuteTime": {
     "end_time": "2018-12-19T17:33:04.035568Z",
     "start_time": "2018-12-19T17:32:58.935781Z"
    }
   },
   "outputs": [
    {
     "name": "stdout",
     "output_type": "stream",
     "text": [
      "Loading cora dataset...\n"
     ]
    }
   ],
   "source": [
    "adj, features, labels, idx_train, idx_val, idx_test = load_data(path = 'pygcn/data/cora/')\n",
    "A = adj.detach().to_dense().numpy()"
   ]
  },
  {
   "cell_type": "code",
   "execution_count": 3,
   "metadata": {
    "ExecuteTime": {
     "end_time": "2018-12-19T17:33:04.189519Z",
     "start_time": "2018-12-19T17:33:04.170651Z"
    }
   },
   "outputs": [
    {
     "data": {
      "text/plain": [
       "array([0.8333334 , 0.53125   , 0.52758074, 0.78333336, 0.8333334 ,\n",
       "       0.625     , 0.5694444 , 0.5833333 , 0.8000001 , 1.2416667 ,\n",
       "       0.7519842 , 0.61904764, 0.61025643, 0.7166667 , 4.8333335 ],\n",
       "      dtype=float32)"
      ]
     },
     "execution_count": 3,
     "metadata": {},
     "output_type": "execute_result"
    }
   ],
   "source": [
    "A.sum(0)[:15]"
   ]
  },
  {
   "cell_type": "code",
   "execution_count": 4,
   "metadata": {
    "ExecuteTime": {
     "end_time": "2018-12-19T17:33:09.625667Z",
     "start_time": "2018-12-19T17:33:09.334798Z"
    }
   },
   "outputs": [
    {
     "data": {
      "image/png": "[encoded data removed]",
      "text/plain": [
       "<Figure size 432x288 with 1 Axes>"
      ]
     },
     "metadata": {
      "needs_background": "light"
     },
     "output_type": "display_data"
    }
   ],
   "source": [
    "plt.hist(A.sum(0)[:1000], bins=100)\n",
    "plt.show()"
   ]
  },
  {
   "cell_type": "markdown",
   "metadata": {},
   "source": [
    "Looks like A is already normalized, and diagonal elements are nonzero. Maybe, we don't even need to calculate S? <br>\n",
    "UPD. A is slightly worse then S: max accuracy 84.6 in comparison to 84.  "
   ]
  },
  {
   "cell_type": "code",
   "execution_count": 5,
   "metadata": {
    "ExecuteTime": {
     "end_time": "2018-12-19T17:33:11.427389Z",
     "start_time": "2018-12-19T17:33:09.626936Z"
    }
   },
   "outputs": [
    {
     "name": "stderr",
     "output_type": "stream",
     "text": [
      "100%|██████████| 10/10 [00:00<00:00, 29.99it/s]\n"
     ]
    }
   ],
   "source": [
    "k=10\n",
    "S, V, R = process_adjacency_matrix(A, k) #need only this one\n",
    "# S, Q, T = process_adjacency_matrix(A, k, ritz=False)"
   ]
  },
  {
   "cell_type": "code",
   "execution_count": 6,
   "metadata": {
    "ExecuteTime": {
     "end_time": "2018-12-19T16:58:15.414703Z",
     "start_time": "2018-12-19T16:58:14.831832Z"
    },
    "deletable": false,
    "editable": false,
    "run_control": {
     "frozen": true
    }
   },
   "outputs": [
    {
     "ename": "NameError",
     "evalue": "name 'T' is not defined",
     "output_type": "error",
     "traceback": [
      "\u001b[0;31m---------------------------------------------------------------------------\u001b[0m",
      "\u001b[0;31mNameError\u001b[0m                                 Traceback (most recent call last)",
      "\u001b[0;32m<ipython-input-6-59d97620dc87>\u001b[0m in \u001b[0;36m<module>\u001b[0;34m\u001b[0m\n\u001b[1;32m      1\u001b[0m \u001b[0mf\u001b[0m\u001b[0;34m,\u001b[0m \u001b[0;34m(\u001b[0m\u001b[0max1\u001b[0m\u001b[0;34m,\u001b[0m \u001b[0max2\u001b[0m\u001b[0;34m,\u001b[0m \u001b[0max3\u001b[0m\u001b[0;34m,\u001b[0m \u001b[0max4\u001b[0m\u001b[0;34m)\u001b[0m \u001b[0;34m=\u001b[0m \u001b[0mplt\u001b[0m\u001b[0;34m.\u001b[0m\u001b[0msubplots\u001b[0m\u001b[0;34m(\u001b[0m\u001b[0;36m1\u001b[0m\u001b[0;34m,\u001b[0m \u001b[0;36m4\u001b[0m\u001b[0;34m,\u001b[0m \u001b[0mfigsize\u001b[0m\u001b[0;34m=\u001b[0m\u001b[0;34m(\u001b[0m\u001b[0;36m15\u001b[0m\u001b[0;34m,\u001b[0m \u001b[0;36m5\u001b[0m\u001b[0;34m)\u001b[0m\u001b[0;34m)\u001b[0m\u001b[0;34m\u001b[0m\u001b[0m\n\u001b[1;32m      2\u001b[0m \u001b[0mm1\u001b[0m \u001b[0;34m=\u001b[0m \u001b[0max1\u001b[0m\u001b[0;34m.\u001b[0m\u001b[0mmatshow\u001b[0m\u001b[0;34m(\u001b[0m\u001b[0mS\u001b[0m\u001b[0;34m[\u001b[0m\u001b[0;34m:\u001b[0m\u001b[0;36m20\u001b[0m\u001b[0;34m,\u001b[0m\u001b[0;34m:\u001b[0m\u001b[0;36m20\u001b[0m\u001b[0;34m]\u001b[0m\u001b[0;34m)\u001b[0m\u001b[0;34m\u001b[0m\u001b[0m\n\u001b[0;32m----> 3\u001b[0;31m \u001b[0mm2\u001b[0m \u001b[0;34m=\u001b[0m \u001b[0max2\u001b[0m\u001b[0;34m.\u001b[0m\u001b[0mmatshow\u001b[0m\u001b[0;34m(\u001b[0m\u001b[0mT\u001b[0m\u001b[0;34m[\u001b[0m\u001b[0;34m:\u001b[0m\u001b[0;36m20\u001b[0m\u001b[0;34m,\u001b[0m\u001b[0;34m:\u001b[0m\u001b[0;36m20\u001b[0m\u001b[0;34m]\u001b[0m\u001b[0;34m)\u001b[0m\u001b[0;34m\u001b[0m\u001b[0m\n\u001b[0m\u001b[1;32m      4\u001b[0m \u001b[0mm3\u001b[0m \u001b[0;34m=\u001b[0m \u001b[0max3\u001b[0m\u001b[0;34m.\u001b[0m\u001b[0mmatshow\u001b[0m\u001b[0;34m(\u001b[0m\u001b[0;34m(\u001b[0m\u001b[0mQ\u001b[0m\u001b[0;34m@\u001b[0m\u001b[0mT\u001b[0m\u001b[0;34m@\u001b[0m\u001b[0mQ\u001b[0m\u001b[0;34m.\u001b[0m\u001b[0mT\u001b[0m\u001b[0;34m)\u001b[0m\u001b[0;34m[\u001b[0m\u001b[0;34m:\u001b[0m\u001b[0;36m20\u001b[0m\u001b[0;34m,\u001b[0m\u001b[0;34m:\u001b[0m\u001b[0;36m20\u001b[0m\u001b[0;34m]\u001b[0m\u001b[0;34m)\u001b[0m\u001b[0;34m\u001b[0m\u001b[0m\n\u001b[1;32m      5\u001b[0m \u001b[0mm4\u001b[0m \u001b[0;34m=\u001b[0m \u001b[0max4\u001b[0m\u001b[0;34m.\u001b[0m\u001b[0mmatshow\u001b[0m\u001b[0;34m(\u001b[0m\u001b[0;34m(\u001b[0m\u001b[0mV\u001b[0m\u001b[0;34m@\u001b[0m\u001b[0mR\u001b[0m\u001b[0;34m@\u001b[0m\u001b[0mV\u001b[0m\u001b[0;34m.\u001b[0m\u001b[0mT\u001b[0m\u001b[0;34m)\u001b[0m\u001b[0;34m[\u001b[0m\u001b[0;34m:\u001b[0m\u001b[0;36m20\u001b[0m\u001b[0;34m,\u001b[0m\u001b[0;34m:\u001b[0m\u001b[0;36m20\u001b[0m\u001b[0;34m]\u001b[0m\u001b[0;34m)\u001b[0m\u001b[0;34m\u001b[0m\u001b[0m\n",
      "\u001b[0;31mNameError\u001b[0m: name 'T' is not defined"
     ]
    },
    {
     "data": {
      "image/png": "[encoded data removed]",
      "text/plain": [
       "<Figure size 1080x360 with 4 Axes>"
      ]
     },
     "metadata": {
      "needs_background": "light"
     },
     "output_type": "display_data"
    }
   ],
   "source": [
    "f, (ax1, ax2, ax3, ax4) = plt.subplots(1, 4, figsize=(15, 5))\n",
    "m1 = ax1.matshow(S[:20,:20])\n",
    "m2 = ax2.matshow(T[:20,:20])\n",
    "m3 = ax3.matshow((Q@T@Q.T)[:20,:20])\n",
    "m4 = ax4.matshow((V@R@V.T)[:20,:20])\n",
    "f.colorbar(m1, ax=ax1)\n",
    "f.colorbar(m2, ax=ax2)\n",
    "f.colorbar(m3, ax=ax3)\n",
    "f.colorbar(m4, ax=ax4)"
   ]
  },
  {
   "cell_type": "markdown",
   "metadata": {},
   "source": [
    "## Training"
   ]
  },
  {
   "cell_type": "code",
   "execution_count": 6,
   "metadata": {
    "ExecuteTime": {
     "end_time": "2018-12-19T17:33:11.454733Z",
     "start_time": "2018-12-19T17:33:11.429370Z"
    }
   },
   "outputs": [],
   "source": [
    "class LanczosConvNet(nn.Module):\n",
    "    def __init__(self, k, feat_dim, spectral_features, num_classes, short_scales, long_scales, conv_dim):\n",
    "        super(LanczosConvNet, self).__init__()\n",
    "        super().__init__()\n",
    "        spectral_conv_params = {\n",
    "            'in_features': feat_dim,\n",
    "            'out_features': spectral_features,\n",
    "#             'out_features': num_classes,\n",
    "            'k': k,\n",
    "            'short_scales': short_scales,\n",
    "            'long_scales': long_scales,\n",
    "            'mlp_layers_number': 3\n",
    "        }\n",
    "        spectral_conv2_params = {\n",
    "            'in_features': spectral_features,\n",
    "#             'out_features': spectral_features // 2,\n",
    "            'out_features': num_classes,\n",
    "            'k': k,\n",
    "            'short_scales': short_scales,\n",
    "            'long_scales': long_scales,\n",
    "            'mlp_layers_number': 3\n",
    "        }\n",
    "        self.spectral_conv = SpectralConv(**spectral_conv_params)\n",
    "#         self.spectral_conv2 = SpectralConv(**spectral_conv2_params)\n",
    "#         self.mlp = nn.Sequential(nn.Linear(spectral_features // 2, spectral_features // 4),\n",
    "#                                  nn.Linear(spectral_features // 4, num_classes))\n",
    "        self.mlp = nn.Sequential(nn.Linear(spectral_features, spectral_features // 2),\n",
    "                                 nn.Linear(spectral_features // 2, num_classes))\n",
    "#         self.conv1 = GraphConvolution(spectral_features, conv_dim)\n",
    "#         self.conv2 = GraphConvolution(conv_dim, num_classes)\n",
    "                                      \n",
    "    def forward(self, adj, X, S, V, R):\n",
    "        Z = self.spectral_conv(X, S, V, R)\n",
    "#         Z = self.spectral_conv2(Z, S, V, R)\n",
    "        Z = self.mlp(Z)\n",
    "        return F.log_softmax(Z)\n",
    "#         Z = self.conv1(features, adj)\n",
    "#         Z = self.conv2(Z, adj)        \n",
    "        \n",
    "#         return F.log_softmax(Z)"
   ]
  },
  {
   "cell_type": "code",
   "execution_count": 7,
   "metadata": {
    "ExecuteTime": {
     "end_time": "2018-12-19T17:33:11.589476Z",
     "start_time": "2018-12-19T17:33:11.456866Z"
    }
   },
   "outputs": [],
   "source": [
    "n = adj.shape[0]\n",
    "feat_dim = 1433\n",
    "conv_dim = 256\n",
    "short_scales = [1, 3, 5]\n",
    "long_scales = [10,20,30]\n",
    "num_classes = 7\n",
    "lr = 1e-2"
   ]
  },
  {
   "cell_type": "code",
   "execution_count": 8,
   "metadata": {
    "ExecuteTime": {
     "end_time": "2018-12-19T17:33:13.575983Z",
     "start_time": "2018-12-19T17:33:11.590866Z"
    }
   },
   "outputs": [],
   "source": [
    "# A = torch.Tensor(A).cuda()\n",
    "X = features.requires_grad_().cuda()\n",
    "S = torch.Tensor(S).cuda()\n",
    "V = torch.Tensor(V).cuda()\n",
    "w = torch.Tensor(np.diag(R)).cuda()\n",
    "labels = labels.cuda()\n",
    "model = None"
   ]
  },
  {
   "cell_type": "code",
   "execution_count": 11,
   "metadata": {
    "ExecuteTime": {
     "end_time": "2018-12-19T17:34:11.621175Z",
     "start_time": "2018-12-19T17:34:11.467547Z"
    }
   },
   "outputs": [],
   "source": [
    "loss_train_vals = []\n",
    "loss_test_vals = []\n",
    "acc_train_vals = []\n",
    "acc_test_vals = []\n",
    "\n",
    "if model is not None:\n",
    "    del model\n",
    "    torch.cuda.empty_cache()\n",
    "\n",
    "kernel = ExpKernel(X, A, [feat_dim // 2, feat_dim // 4], e=1000).cuda()\n",
    "model = LanczosConvNet(k, feat_dim, feat_dim // 4, num_classes, short_scales, long_scales, conv_dim).cuda()\n",
    "optimizer = optim.Adam(list(model.parameters()) + list(kernel.parameters()), lr=lr)\n",
    "\n",
    "def train(epoch, eval_epoch=3):\n",
    "    A = kernel(X)\n",
    "    S, V, R = process_adjacency_matrix(A, k, ritz=False)\n",
    "    if type(S) != torch.Tensor:\n",
    "        S = torch.Tensor(S).cuda()\n",
    "#     S = S.cuda()\n",
    "    V = torch.Tensor(V).cuda()\n",
    "    w = torch.Tensor(np.diag(R)).cuda()\n",
    "#     print(A, S)\n",
    "    \n",
    "    model.train()\n",
    "    optimizer.zero_grad()\n",
    "    output = model(A, X, S, V, w)\n",
    "    loss_train = F.nll_loss(output[idx_train], labels[idx_train])\n",
    "    acc_train = accuracy(output[idx_train], labels[idx_train])\n",
    "    loss_train.backward()\n",
    "    optimizer.step()\n",
    "\n",
    "    model.eval()\n",
    "    output = model(A, X, S, V, w)\n",
    "\n",
    "    loss_val = F.nll_loss(output[idx_val], labels[idx_val])\n",
    "    acc_val = accuracy(output[idx_val], labels[idx_val])\n",
    "    \n",
    "    loss_train_vals.append(loss_train.item())\n",
    "    loss_test_vals.append(loss_val.item())\n",
    "    acc_train_vals.append(acc_train.item())\n",
    "    acc_test_vals.append(acc_val.item())\n",
    "    \n",
    "    if epoch > 0 and epoch%eval_epoch == 0:\n",
    "        clear_output()\n",
    "        \n",
    "        f, (ax1, ax2) = plt.subplots(1, 2, figsize=(15, 6))\n",
    "        ax1.plot(loss_train_vals, label='train')\n",
    "        ax1.plot(loss_test_vals, label='test')\n",
    "        ax1.set_title('loss')\n",
    "        ax1.legend()\n",
    "        \n",
    "        ax2.plot(acc_train_vals, label='train')\n",
    "        ax2.plot(acc_test_vals, label='test')\n",
    "        ax2.set_title('accuracy')\n",
    "        ax2.legend()\n",
    "        \n",
    "        plt.show()\n",
    "        \n",
    "        print('Epoch: {:04d}'.format(epoch+1),\n",
    "              'loss_train: {:.4f}'.format(loss_train_vals[-1]),\n",
    "              'acc_train: {:.4f}'.format(acc_train_vals[-1]),\n",
    "              'loss_val: {:.4f}'.format(loss_test_vals[-1]),\n",
    "              'acc_val: {:.4f}'.format(acc_test_vals[-1]))\n",
    "\n",
    "\n",
    "def test():\n",
    "    model.eval()\n",
    "    output = model(A, X, S, V, w)\n",
    "    loss_test = F.nll_loss(output[idx_test], labels[idx_test])\n",
    "    acc_test = accuracy(output[idx_test], labels[idx_test])\n",
    "    print(\"Test set results:\",\n",
    "          \"loss= {:.4f}\".format(loss_test.item()),\n",
    "          \"accuracy= {:.4f}\".format(acc_test.item()))"
   ]
  },
  {
   "cell_type": "code",
   "execution_count": 13,
   "metadata": {
    "ExecuteTime": {
     "end_time": "2018-12-19T17:38:11.936761Z",
     "start_time": "2018-12-19T17:35:45.376800Z"
    }
   },
   "outputs": [
    {
     "data": {
      "image/png": "[encoded data removed]",
      "text/plain": [
       "<Figure size 1080x432 with 2 Axes>"
      ]
     },
     "metadata": {
      "needs_background": "light"
     },
     "output_type": "display_data"
    },
    {
     "name": "stderr",
     "output_type": "stream",
     "text": [
      " 40%|████      | 4/10 [00:00<00:00, 30.08it/s]"
     ]
    },
    {
     "name": "stdout",
     "output_type": "stream",
     "text": [
      "Epoch: 0106 loss_train: 0.0000 acc_train: 1.0000 loss_val: 26.3241 acc_val: 0.2467\n"
     ]
    },
    {
     "name": "stderr",
     "output_type": "stream",
     "text": [
      "100%|██████████| 10/10 [00:00<00:00, 28.59it/s]\n",
      "100%|██████████| 10/10 [00:00<00:00, 29.09it/s]\n"
     ]
    },
    {
     "ename": "KeyboardInterrupt",
     "evalue": "",
     "output_type": "error",
     "traceback": [
      "\u001b[0;31m---------------------------------------------------------------------------\u001b[0m",
      "\u001b[0;31mKeyboardInterrupt\u001b[0m                         Traceback (most recent call last)",
      "\u001b[0;32m<ipython-input-13-6ae52d716d0f>\u001b[0m in \u001b[0;36m<module>\u001b[0;34m\u001b[0m\n\u001b[1;32m      1\u001b[0m \u001b[0mepochs\u001b[0m\u001b[0;34m=\u001b[0m\u001b[0;36m200\u001b[0m\u001b[0;34m\u001b[0m\u001b[0m\n\u001b[1;32m      2\u001b[0m \u001b[0;32mfor\u001b[0m \u001b[0mepoch\u001b[0m \u001b[0;32min\u001b[0m \u001b[0mtqdm\u001b[0m\u001b[0;34m(\u001b[0m\u001b[0mrange\u001b[0m\u001b[0;34m(\u001b[0m\u001b[0mepochs\u001b[0m\u001b[0;34m)\u001b[0m\u001b[0;34m)\u001b[0m\u001b[0;34m:\u001b[0m\u001b[0;34m\u001b[0m\u001b[0m\n\u001b[0;32m----> 3\u001b[0;31m     \u001b[0mtrain\u001b[0m\u001b[0;34m(\u001b[0m\u001b[0mepoch\u001b[0m\u001b[0;34m)\u001b[0m\u001b[0;34m\u001b[0m\u001b[0m\n\u001b[0m\u001b[1;32m      4\u001b[0m \u001b[0mprint\u001b[0m\u001b[0;34m(\u001b[0m\u001b[0;34mf'\\nmin test loss: \\t{loss_test_vals[np.argmin(acc_test_vals)]}'\u001b[0m\u001b[0;34m)\u001b[0m\u001b[0;34m\u001b[0m\u001b[0m\n\u001b[1;32m      5\u001b[0m \u001b[0mprint\u001b[0m\u001b[0;34m(\u001b[0m\u001b[0;34mf'max test accuracy: \\t{max(acc_test_vals)}'\u001b[0m\u001b[0;34m)\u001b[0m\u001b[0;34m\u001b[0m\u001b[0m\n",
      "\u001b[0;32m<ipython-input-11-07e784df3ffa>\u001b[0m in \u001b[0;36mtrain\u001b[0;34m(epoch, eval_epoch)\u001b[0m\n\u001b[1;32m     27\u001b[0m     \u001b[0mloss_train\u001b[0m \u001b[0;34m=\u001b[0m \u001b[0mF\u001b[0m\u001b[0;34m.\u001b[0m\u001b[0mnll_loss\u001b[0m\u001b[0;34m(\u001b[0m\u001b[0moutput\u001b[0m\u001b[0;34m[\u001b[0m\u001b[0midx_train\u001b[0m\u001b[0;34m]\u001b[0m\u001b[0;34m,\u001b[0m \u001b[0mlabels\u001b[0m\u001b[0;34m[\u001b[0m\u001b[0midx_train\u001b[0m\u001b[0;34m]\u001b[0m\u001b[0;34m)\u001b[0m\u001b[0;34m\u001b[0m\u001b[0m\n\u001b[1;32m     28\u001b[0m     \u001b[0macc_train\u001b[0m \u001b[0;34m=\u001b[0m \u001b[0maccuracy\u001b[0m\u001b[0;34m(\u001b[0m\u001b[0moutput\u001b[0m\u001b[0;34m[\u001b[0m\u001b[0midx_train\u001b[0m\u001b[0;34m]\u001b[0m\u001b[0;34m,\u001b[0m \u001b[0mlabels\u001b[0m\u001b[0;34m[\u001b[0m\u001b[0midx_train\u001b[0m\u001b[0;34m]\u001b[0m\u001b[0;34m)\u001b[0m\u001b[0;34m\u001b[0m\u001b[0m\n\u001b[0;32m---> 29\u001b[0;31m     \u001b[0mloss_train\u001b[0m\u001b[0;34m.\u001b[0m\u001b[0mbackward\u001b[0m\u001b[0;34m(\u001b[0m\u001b[0;34m)\u001b[0m\u001b[0;34m\u001b[0m\u001b[0m\n\u001b[0m\u001b[1;32m     30\u001b[0m     \u001b[0moptimizer\u001b[0m\u001b[0;34m.\u001b[0m\u001b[0mstep\u001b[0m\u001b[0;34m(\u001b[0m\u001b[0;34m)\u001b[0m\u001b[0;34m\u001b[0m\u001b[0m\n\u001b[1;32m     31\u001b[0m \u001b[0;34m\u001b[0m\u001b[0m\n",
      "\u001b[0;32m~/miniconda3/lib/python3.7/site-packages/torch/tensor.py\u001b[0m in \u001b[0;36mbackward\u001b[0;34m(self, gradient, retain_graph, create_graph)\u001b[0m\n\u001b[1;32m     91\u001b[0m                 \u001b[0mproducts\u001b[0m\u001b[0;34m.\u001b[0m \u001b[0mDefaults\u001b[0m \u001b[0mto\u001b[0m\u001b[0;31m \u001b[0m\u001b[0;31m`\u001b[0m\u001b[0;31m`\u001b[0m\u001b[0;32mFalse\u001b[0m\u001b[0;31m`\u001b[0m\u001b[0;31m`\u001b[0m\u001b[0;34m.\u001b[0m\u001b[0;34m\u001b[0m\u001b[0m\n\u001b[1;32m     92\u001b[0m         \"\"\"\n\u001b[0;32m---> 93\u001b[0;31m         \u001b[0mtorch\u001b[0m\u001b[0;34m.\u001b[0m\u001b[0mautograd\u001b[0m\u001b[0;34m.\u001b[0m\u001b[0mbackward\u001b[0m\u001b[0;34m(\u001b[0m\u001b[0mself\u001b[0m\u001b[0;34m,\u001b[0m \u001b[0mgradient\u001b[0m\u001b[0;34m,\u001b[0m \u001b[0mretain_graph\u001b[0m\u001b[0;34m,\u001b[0m \u001b[0mcreate_graph\u001b[0m\u001b[0;34m)\u001b[0m\u001b[0;34m\u001b[0m\u001b[0m\n\u001b[0m\u001b[1;32m     94\u001b[0m \u001b[0;34m\u001b[0m\u001b[0m\n\u001b[1;32m     95\u001b[0m     \u001b[0;32mdef\u001b[0m \u001b[0mregister_hook\u001b[0m\u001b[0;34m(\u001b[0m\u001b[0mself\u001b[0m\u001b[0;34m,\u001b[0m \u001b[0mhook\u001b[0m\u001b[0;34m)\u001b[0m\u001b[0;34m:\u001b[0m\u001b[0;34m\u001b[0m\u001b[0m\n",
      "\u001b[0;32m~/miniconda3/lib/python3.7/site-packages/torch/autograd/__init__.py\u001b[0m in \u001b[0;36mbackward\u001b[0;34m(tensors, grad_tensors, retain_graph, create_graph, grad_variables)\u001b[0m\n\u001b[1;32m     88\u001b[0m     Variable._execution_engine.run_backward(\n\u001b[1;32m     89\u001b[0m         \u001b[0mtensors\u001b[0m\u001b[0;34m,\u001b[0m \u001b[0mgrad_tensors\u001b[0m\u001b[0;34m,\u001b[0m \u001b[0mretain_graph\u001b[0m\u001b[0;34m,\u001b[0m \u001b[0mcreate_graph\u001b[0m\u001b[0;34m,\u001b[0m\u001b[0;34m\u001b[0m\u001b[0m\n\u001b[0;32m---> 90\u001b[0;31m         allow_unreachable=True)  # allow_unreachable flag\n\u001b[0m\u001b[1;32m     91\u001b[0m \u001b[0;34m\u001b[0m\u001b[0m\n\u001b[1;32m     92\u001b[0m \u001b[0;34m\u001b[0m\u001b[0m\n",
      "\u001b[0;31mKeyboardInterrupt\u001b[0m: "
     ]
    }
   ],
   "source": [
    "epochs=200\n",
    "for epoch in tqdm(range(epochs)):\n",
    "    train(epoch)\n",
    "print(f'\\nmin test loss: \\t{loss_test_vals[np.argmin(acc_test_vals)]}')\n",
    "print(f'max test accuracy: \\t{max(acc_test_vals)}')"
   ]
  },
  {
   "cell_type": "code",
   "execution_count": null,
   "metadata": {
    "ExecuteTime": {
     "end_time": "2018-12-19T17:33:47.363010Z",
     "start_time": "2018-12-19T17:32:59.384Z"
    }
   },
   "outputs": [],
   "source": [
    "(X.cpu().detach().numpy() == features.detach().numpy()).sum()/X.shape[0]/X.shape[1]"
   ]
  }
 ],
 "metadata": {
  "kernelspec": {
   "display_name": "Python 3",
   "language": "python",
   "name": "python3"
  },
  "language_info": {
   "codemirror_mode": {
    "name": "ipython",
    "version": 3
   },
   "file_extension": ".py",
   "mimetype": "text/x-python",
   "name": "python",
   "nbconvert_exporter": "python",
   "pygments_lexer": "ipython3",
   "version": "3.7.0"
  },
  "toc": {
   "base_numbering": 1,
   "nav_menu": {},
   "number_sections": true,
   "sideBar": true,
   "skip_h1_title": false,
   "title_cell": "Table of Contents",
   "title_sidebar": "Contents",
   "toc_cell": false,
   "toc_position": {},
   "toc_section_display": true,
   "toc_window_display": true
  },
  "varInspector": {
   "cols": {
    "lenName": 16,
    "lenType": 16,
    "lenVar": 40
   },
   "kernels_config": {
    "python": {
     "delete_cmd_postfix": "",
     "delete_cmd_prefix": "del ",
     "library": "var_list.py",
     "varRefreshCmd": "print(var_dic_list())"
    },
    "r": {
     "delete_cmd_postfix": ") ",
     "delete_cmd_prefix": "rm(",
     "library": "var_list.r",
     "varRefreshCmd": "cat(var_dic_list()) "
    }
   },
   "types_to_exclude": [
    "module",
    "function",
    "builtin_function_or_method",
    "instance",
    "_Feature"
   ],
   "window_display": false
  }
 },
 "nbformat": 4,
 "nbformat_minor": 2
}
