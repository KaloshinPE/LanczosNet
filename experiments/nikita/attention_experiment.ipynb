{
 "cells": [
  {
   "cell_type": "code",
   "execution_count": 15,
   "metadata": {
    "ExecuteTime": {
     "end_time": "2018-12-18T23:41:41.548705Z",
     "start_time": "2018-12-18T23:41:40.973693Z"
    }
   },
   "outputs": [
    {
     "name": "stdout",
     "output_type": "stream",
     "text": [
      "The autoreload extension is already loaded. To reload it, use:\n",
      "  %reload_ext autoreload\n"
     ]
    }
   ],
   "source": [
    "import numpy as np\n",
    "import scipy\n",
    "from scipy.linalg import sqrtm\n",
    "import scipy.sparse as sp\n",
    "from scipy.sparse import coo_matrix, csr_matrix\n",
    "import matplotlib.pyplot as plt\n",
    "import networkx as nx\n",
    "from tqdm import tqdm_notebook as tqdm\n",
    "import torch\n",
    "from torch import nn\n",
    "import torch.nn.functional as F\n",
    "import torch.optim as optim\n",
    "from IPython.display import clear_output\n",
    "\n",
    "import os\n",
    "import sys\n",
    "module_path = os.path.abspath(os.path.join('../../'))\n",
    "if module_path not in sys.path:\n",
    "    sys.path.append(module_path)\n",
    "from lanczos import lanczos_algorithm, process_adjacency_matrix\n",
    "from pygcn.pygcn.utils import load_data, encode_onehot, normalize, accuracy\n",
    "from nn.layers import SpectralConv\n",
    "from pygcn.pygcn.layers import GraphConvolution\n",
    "\n",
    "from pyGAT.layers import GraphAttentionLayer\n",
    "\n",
    "%load_ext autoreload\n",
    "%autoreload 2\n",
    "%matplotlib inline\n",
    "plt.rcParams['figure.figsize'] = (7, 5)"
   ]
  },
  {
   "cell_type": "markdown",
   "metadata": {},
   "source": [
    "# Cora data load"
   ]
  },
  {
   "cell_type": "code",
   "execution_count": 14,
   "metadata": {},
   "outputs": [
    {
     "name": "stdout",
     "output_type": "stream",
     "text": [
      "Loading cora dataset...\n"
     ]
    }
   ],
   "source": [
    "adj, features, labels, idx_train, idx_val, idx_test = load_data(path = '../../pygcn/data/cora/')\n",
    "A = adj.detach().to_dense().numpy()"
   ]
  },
  {
   "cell_type": "markdown",
   "metadata": {},
   "source": [
    "## Data processing"
   ]
  },
  {
   "cell_type": "code",
   "execution_count": 16,
   "metadata": {
    "ExecuteTime": {
     "end_time": "2018-12-18T23:41:46.727256Z",
     "start_time": "2018-12-18T23:41:46.712018Z"
    }
   },
   "outputs": [
    {
     "data": {
      "text/plain": [
       "array([0.8333334 , 0.53125   , 0.52758074, 0.78333336, 0.8333334 ,\n",
       "       0.625     , 0.5694444 , 0.5833333 , 0.8000001 , 1.2416667 ,\n",
       "       0.7519842 , 0.61904764, 0.61025643, 0.7166667 , 4.8333335 ],\n",
       "      dtype=float32)"
      ]
     },
     "execution_count": 16,
     "metadata": {},
     "output_type": "execute_result"
    }
   ],
   "source": [
    "A.sum(0)[:15]"
   ]
  },
  {
   "cell_type": "code",
   "execution_count": 17,
   "metadata": {
    "ExecuteTime": {
     "end_time": "2018-12-18T23:41:47.579377Z",
     "start_time": "2018-12-18T23:41:47.298210Z"
    }
   },
   "outputs": [
    {
     "data": {
      "image/png": "[encoded data removed]",
      "text/plain": [
       "<matplotlib.figure.Figure at 0x148c7b26ba8>"
      ]
     },
     "metadata": {},
     "output_type": "display_data"
    }
   ],
   "source": [
    "plt.hist(A.sum(0)[:1000], bins=100)\n",
    "plt.show()"
   ]
  },
  {
   "cell_type": "code",
   "execution_count": 7,
   "metadata": {
    "ExecuteTime": {
     "end_time": "2018-12-18T23:44:23.789178Z",
     "start_time": "2018-12-18T23:41:48.206085Z"
    }
   },
   "outputs": [
    {
     "name": "stderr",
     "output_type": "stream",
     "text": [
      "100%|██████████████████████████████████████████████████████████████████████████████| 1000/1000 [02:07<00:00,  7.86it/s]\n",
      "100%|██████████████████████████████████████████████████████████████████████████████| 1000/1000 [02:07<00:00,  7.87it/s]\n"
     ]
    }
   ],
   "source": [
    "k=1000\n",
    "S, V, R = process_adjacency_matrix(A, k) #need only this one\n",
    "S, Q, T = process_adjacency_matrix(A, k, ritz=False)"
   ]
  },
  {
   "cell_type": "code",
   "execution_count": 8,
   "metadata": {
    "ExecuteTime": {
     "end_time": "2018-12-18T23:44:25.792614Z",
     "start_time": "2018-12-18T23:44:24.601531Z"
    }
   },
   "outputs": [
    {
     "data": {
      "text/plain": [
       "<matplotlib.colorbar.Colorbar at 0x242b2017048>"
      ]
     },
     "execution_count": 8,
     "metadata": {},
     "output_type": "execute_result"
    },
    {
     "data": {
      "image/png": "[encoded data removed]",
      "text/plain": [
       "<matplotlib.figure.Figure at 0x242a83624a8>"
      ]
     },
     "metadata": {},
     "output_type": "display_data"
    }
   ],
   "source": [
    "f, (ax1, ax2, ax3, ax4) = plt.subplots(1, 4, figsize=(15, 5))\n",
    "m1 = ax1.matshow(S[:20,:20])\n",
    "m2 = ax2.matshow(T[:20,:20])\n",
    "m3 = ax3.matshow((Q@T@Q.T)[:20,:20])\n",
    "m4 = ax4.matshow((V@R@V.T)[:20,:20])\n",
    "f.colorbar(m1, ax=ax1)\n",
    "f.colorbar(m2, ax=ax2)\n",
    "f.colorbar(m3, ax=ax3)\n",
    "f.colorbar(m4, ax=ax4)"
   ]
  },
  {
   "cell_type": "markdown",
   "metadata": {},
   "source": [
    "## Training"
   ]
  },
  {
   "cell_type": "code",
   "execution_count": 10,
   "metadata": {
    "ExecuteTime": {
     "end_time": "2018-12-18T23:44:26.465250Z",
     "start_time": "2018-12-18T23:44:26.450843Z"
    }
   },
   "outputs": [],
   "source": [
    "class LanczosConvNet(nn.Module):\n",
    "    def __init__(self, k, feat_dim, num_classes, short_scales, long_scales, out_features = 1000, dropout = 0.6, alpha = 0.2, nheads = 8):\n",
    "        super(LanczosConvNet, self).__init__()\n",
    "        self.spectral_conv = SpectralConv(feat_dim, out_features, k, short_scales, long_scales, mlp_layers_number=1)\n",
    "        self.dropout = dropout\n",
    "        \n",
    "        self.attentions = [GraphAttentionLayer(out_features, int(512 / nheads), dropout=dropout, alpha=alpha, concat=True) for _ in range(nheads)]\n",
    "        for i, attention in enumerate(self.attentions):\n",
    "            self.add_module('attention_{}'.format(i), attention)\n",
    "            \n",
    "        self.out_att = GraphAttentionLayer(512, num_classes, dropout=dropout, alpha=alpha, concat=False)\n",
    "                                \n",
    "    def forward(self, adj, X, S, V, R):\n",
    "        \n",
    "        features = self.spectral_conv(X, S, V, R)\n",
    "        \n",
    "        features = F.dropout(features, self.dropout, training=self.training)\n",
    "        features = torch.cat([att(features, adj) for att in self.attentions], dim=1)\n",
    "        \n",
    "        features = F.dropout(features, self.dropout, training=self.training)\n",
    "        features = F.elu(self.out_att(features, adj))\n",
    "        \n",
    "        return F.log_softmax(features, dim=1)"
   ]
  },
  {
   "cell_type": "code",
   "execution_count": 11,
   "metadata": {
    "ExecuteTime": {
     "end_time": "2018-12-18T23:44:27.200345Z",
     "start_time": "2018-12-18T23:44:27.143177Z"
    }
   },
   "outputs": [],
   "source": [
    "n = adj.shape[0]\n",
    "feat_dim = 1433\n",
    "short_scales = [1,3,5]\n",
    "long_scales = [10,20,30]\n",
    "num_classes = 7\n",
    "lr = 1e-2"
   ]
  },
  {
   "cell_type": "code",
   "execution_count": 12,
   "metadata": {
    "ExecuteTime": {
     "end_time": "2018-12-18T23:44:29.859140Z",
     "start_time": "2018-12-18T23:44:27.848889Z"
    }
   },
   "outputs": [],
   "source": [
    "A = torch.Tensor(A).cuda()\n",
    "X = features.cuda()\n",
    "S = torch.Tensor(S).cuda()\n",
    "V = torch.Tensor(V).cuda()\n",
    "w = torch.Tensor(np.diag(R)).cuda()\n",
    "labels = labels.cuda()"
   ]
  },
  {
   "cell_type": "code",
   "execution_count": 13,
   "metadata": {
    "ExecuteTime": {
     "end_time": "2018-12-18T23:44:30.625182Z",
     "start_time": "2018-12-18T23:44:30.604567Z"
    }
   },
   "outputs": [],
   "source": [
    "loss_train_vals = []\n",
    "loss_test_vals = []\n",
    "acc_train_vals = []\n",
    "acc_test_vals = []\n",
    "\n",
    "model = LanczosConvNet(k, feat_dim,  num_classes, short_scales, long_scales).cuda()\n",
    "optimizer = optim.Adam(model.parameters(), lr=lr)\n",
    "\n",
    "def train(epoch, eval_epoch=3):\n",
    "    model.train()\n",
    "    optimizer.zero_grad()\n",
    "    output = model(A, X, S, V, w)\n",
    "    loss_train = F.nll_loss(output[idx_train], labels[idx_train])\n",
    "    acc_train = accuracy(output[idx_train], labels[idx_train])\n",
    "    loss_train.backward()\n",
    "    optimizer.step()\n",
    "\n",
    "    model.eval()\n",
    "    output = model(A, X, S, V, w)\n",
    "\n",
    "    loss_val = F.nll_loss(output[idx_val], labels[idx_val])\n",
    "    acc_val = accuracy(output[idx_val], labels[idx_val])\n",
    "    \n",
    "    loss_train_vals.append(loss_train.item())\n",
    "    loss_test_vals.append(loss_val.item())\n",
    "    acc_train_vals.append(acc_train.item())\n",
    "    acc_test_vals.append(acc_val.item())\n",
    "    \n",
    "    if epoch > 0 and epoch%eval_epoch == 0:\n",
    "        clear_output()\n",
    "        \n",
    "        f, (ax1, ax2) = plt.subplots(1, 2, figsize=(15, 6))\n",
    "        ax1.plot(loss_train_vals, label='train')\n",
    "        ax1.plot(loss_test_vals, label='test')\n",
    "        ax1.set_title('loss')\n",
    "        ax1.legend()\n",
    "        \n",
    "        ax2.plot(acc_train_vals, label='train')\n",
    "        ax2.plot(acc_test_vals, label='test')\n",
    "        ax2.set_title('accuracy')\n",
    "        ax2.legend()\n",
    "        \n",
    "        plt.show()\n",
    "        \n",
    "        print('Epoch: {:04d}'.format(epoch+1),\n",
    "              'loss_train: {:.4f}'.format(loss_train_vals[-1]),\n",
    "              'acc_train: {:.4f}'.format(acc_train_vals[-1]),\n",
    "              'loss_val: {:.4f}'.format(loss_test_vals[-1]),\n",
    "              'acc_val: {:.4f}'.format(acc_test_vals[-1]))\n",
    "\n",
    "\n",
    "def test():\n",
    "    model.eval()\n",
    "    output = model(A, X, S, V, w)\n",
    "    loss_test = F.nll_loss(output[idx_test], labels[idx_test])\n",
    "    acc_test = accuracy(output[idx_test], labels[idx_test])\n",
    "    print(\"Test set results:\",\n",
    "          \"loss= {:.4f}\".format(loss_test.item()),\n",
    "          \"accuracy= {:.4f}\".format(acc_test.item()))"
   ]
  },
  {
   "cell_type": "code",
   "execution_count": null,
   "metadata": {
    "ExecuteTime": {
     "end_time": "2018-12-18T23:45:32.647827Z",
     "start_time": "2018-12-18T23:44:31.383995Z"
    }
   },
   "outputs": [],
   "source": [
    "epochs=80\n",
    "for epoch in tqdm(range(epochs)):\n",
    "    train(epoch)"
   ]
  },
  {
   "cell_type": "code",
   "execution_count": null,
   "metadata": {
    "ExecuteTime": {
     "end_time": "2018-12-18T23:45:32.647827Z",
     "start_time": "2018-12-18T23:44:31.383995Z"
    }
   },
   "outputs": [],
   "source": [
    "print(\"min test loss:\", loss_test_vals[np.argmin(acc_test_vals)])\n",
    "print(\"max test accuracy:\", {max(acc_test_vals)})"
   ]
  },
  {
   "cell_type": "markdown",
   "metadata": {},
   "source": [
    "- Improvement over baseline ~1% (from 81.3 -> 82.3)\n",
    "\n",
    "- Run time is significantly greater\n",
    "\n",
    "- Snapshot of train:\n",
    "\n",
    "<img src=\"Cora_attention.png\">"
   ]
  }
 ],
 "metadata": {
  "kernelspec": {
   "display_name": "tensorflow",
   "language": "python",
   "name": "tensorflow"
  },
  "language_info": {
   "codemirror_mode": {
    "name": "ipython",
    "version": 3
   },
   "file_extension": ".py",
   "mimetype": "text/x-python",
   "name": "python",
   "nbconvert_exporter": "python",
   "pygments_lexer": "ipython3",
   "version": "3.5.5"
  }
 },
 "nbformat": 4,
 "nbformat_minor": 2
}
