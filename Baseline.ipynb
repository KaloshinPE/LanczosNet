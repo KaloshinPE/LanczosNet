{
 "cells": [
  {
   "cell_type": "code",
   "execution_count": 1,
   "metadata": {
    "ExecuteTime": {
     "end_time": "2018-12-18T23:41:41.548705Z",
     "start_time": "2018-12-18T23:41:40.973693Z"
    }
   },
   "outputs": [],
   "source": [
    "import numpy as np\n",
    "import scipy\n",
    "from scipy.linalg import sqrtm\n",
    "import scipy.sparse as sp\n",
    "from scipy.sparse import coo_matrix, csr_matrix\n",
    "import matplotlib.pyplot as plt\n",
    "import networkx as nx\n",
    "from tqdm import tqdm_notebook as tqdm\n",
    "import torch\n",
    "from torch import nn\n",
    "import torch.nn.functional as F\n",
    "import torch.optim as optim\n",
    "from IPython.display import clear_output\n",
    "\n",
    "from lanczos import lanczos_algorithm, process_adjacency_matrix\n",
    "from pygcn.pygcn.utils import encode_onehot, normalize, accuracy\n",
    "from data.loader import load_data\n",
    "from nn.layers import SpectralConv\n",
    "from pygcn.pygcn.layers import GraphConvolution\n",
    "\n",
    "%load_ext autoreload\n",
    "%autoreload 2\n",
    "%matplotlib inline\n",
    "plt.rcParams['figure.figsize'] = (7, 5)"
   ]
  },
  {
   "cell_type": "markdown",
   "metadata": {},
   "source": [
    "# Quora citation dataset"
   ]
  },
  {
   "cell_type": "markdown",
   "metadata": {},
   "source": [
    "# Pubmed"
   ]
  },
  {
   "cell_type": "markdown",
   "metadata": {},
   "source": [
    "# CiteSeer data load"
   ]
  },
  {
   "cell_type": "code",
   "execution_count": 2,
   "metadata": {},
   "outputs": [],
   "source": [
    "from gcn.gcn.utils import load_data as gcn_load_data\n",
    "adj, features, labels, idx_train, idx_val, idx_test = load_data('cora') # /cora/citeseer\n",
    "A = np.array(adj.todense())"
   ]
  },
  {
   "cell_type": "markdown",
   "metadata": {},
   "source": [
    "## Data processing"
   ]
  },
  {
   "cell_type": "code",
   "execution_count": 3,
   "metadata": {
    "ExecuteTime": {
     "end_time": "2018-12-18T23:41:47.579377Z",
     "start_time": "2018-12-18T23:41:47.298210Z"
    }
   },
   "outputs": [
    {
     "data": {
      "image/png": "[encoded data removed]",
      "text/plain": [
       "<Figure size 504x360 with 1 Axes>"
      ]
     },
     "metadata": {},
     "output_type": "display_data"
    }
   ],
   "source": [
    "plt.hist(A.sum(0)[:1000], bins=100)\n",
    "plt.show()"
   ]
  },
  {
   "cell_type": "markdown",
   "metadata": {},
   "source": [
    "Looks like A is already normalized, and diagonal elements are nonzero. Maybe, we don't even need to calculate S? <br>\n",
    "UPD. A is slightly worse then S: max accuracy 84.6 in comparison to 84.  "
   ]
  },
  {
   "cell_type": "code",
   "execution_count": 30,
   "metadata": {
    "ExecuteTime": {
     "end_time": "2018-12-18T23:44:23.789178Z",
     "start_time": "2018-12-18T23:41:48.206085Z"
    }
   },
   "outputs": [
    {
     "name": "stderr",
     "output_type": "stream",
     "text": [
      "/home/mvkolos/projects/LanczosNet/lanczos.py:50: RuntimeWarning: invalid value encountered in sqrt\n",
      "  D = np.sqrt(np.linalg.inv(D))\n",
      "100%|██████████| 20/20 [00:00<00:00, 55.93it/s]\n",
      "100%|██████████| 20/20 [00:00<00:00, 56.15it/s]\n"
     ]
    }
   ],
   "source": [
    "k=20\n",
    "S, V, R = process_adjacency_matrix(A, k) #need only this one\n",
    "S, Q, T = process_adjacency_matrix(A, k, ritz=False)"
   ]
  },
  {
   "cell_type": "code",
   "execution_count": 31,
   "metadata": {
    "ExecuteTime": {
     "end_time": "2018-12-18T23:44:25.792614Z",
     "start_time": "2018-12-18T23:44:24.601531Z"
    }
   },
   "outputs": [
    {
     "data": {
      "text/plain": [
       "<matplotlib.colorbar.Colorbar at 0x7f61639060b8>"
      ]
     },
     "execution_count": 31,
     "metadata": {},
     "output_type": "execute_result"
    },
    {
     "data": {
      "image/png": "[encoded data removed]",
      "text/plain": [
       "<Figure size 1080x360 with 8 Axes>"
      ]
     },
     "metadata": {},
     "output_type": "display_data"
    }
   ],
   "source": [
    "f, (ax1, ax2, ax3, ax4) = plt.subplots(1, 4, figsize=(15, 5))\n",
    "m1 = ax1.matshow(S[:20,:20])\n",
    "m2 = ax2.matshow(T[:20,:20])\n",
    "m3 = ax3.matshow((Q@T@Q.T)[:20,:20])\n",
    "m4 = ax4.matshow((V@R@V.T)[:20,:20])\n",
    "f.colorbar(m1, ax=ax1)\n",
    "f.colorbar(m2, ax=ax2)\n",
    "f.colorbar(m3, ax=ax3)\n",
    "f.colorbar(m4, ax=ax4)"
   ]
  },
  {
   "cell_type": "markdown",
   "metadata": {},
   "source": [
    "## Training"
   ]
  },
  {
   "cell_type": "code",
   "execution_count": 32,
   "metadata": {
    "ExecuteTime": {
     "end_time": "2018-12-18T23:44:26.465250Z",
     "start_time": "2018-12-18T23:44:26.450843Z"
    }
   },
   "outputs": [],
   "source": [
    "class LanczosConvNet(nn.Module):\n",
    "    def __init__(self, k, feat_dim, num_classes, short_scales, long_scales, out_features = 1024, inner_dim = 256):\n",
    "        super(LanczosConvNet, self).__init__()\n",
    "        self.spectral_conv = SpectralConv(feat_dim, out_features, k, short_scales, long_scales, mlp_layers_number=1)\n",
    "#         self.pool = nn.MaxPool1d(3, stride=2)\n",
    "        self.conv1 = GraphConvolution(out_features, inner_dim)\n",
    "        self.conv2 = GraphConvolution(inner_dim, num_classes)\n",
    "                                      \n",
    "    def forward(self, adj, X, S, V, R):\n",
    "        features = self.spectral_conv(X, S, V, R)\n",
    "#         features = self.pool(features[None, :,:])[0]\n",
    "#         print(features.shape)\n",
    "        Z = self.conv1(features, adj)\n",
    "        Z = self.conv2(Z, adj)        \n",
    "        \n",
    "        return F.log_softmax(Z)"
   ]
  },
  {
   "cell_type": "code",
   "execution_count": 33,
   "metadata": {
    "ExecuteTime": {
     "end_time": "2018-12-18T23:44:27.200345Z",
     "start_time": "2018-12-18T23:44:27.143177Z"
    }
   },
   "outputs": [],
   "source": [
    "n = adj.shape[0]\n",
    "feat_dim = features.shape[-1]\n",
    "short_scales = [1,5,7]\n",
    "long_scales = [10,20,30]\n",
    "num_classes = len(np.unique(labels))\n",
    "lr = 1e-2"
   ]
  },
  {
   "cell_type": "code",
   "execution_count": 27,
   "metadata": {
    "ExecuteTime": {
     "end_time": "2018-12-18T23:44:29.859140Z",
     "start_time": "2018-12-18T23:44:27.848889Z"
    }
   },
   "outputs": [
    {
     "ename": "TypeError",
     "evalue": "expected torch.FloatTensor (got torch.cuda.FloatTensor)",
     "output_type": "error",
     "traceback": [
      "\u001b[0;31m---------------------------------------------------------------------------\u001b[0m",
      "\u001b[0;31mTypeError\u001b[0m                                 Traceback (most recent call last)",
      "\u001b[0;32m<ipython-input-27-89f88ae26582>\u001b[0m in \u001b[0;36m<module>\u001b[0;34m()\u001b[0m\n\u001b[0;32m----> 1\u001b[0;31m \u001b[0mA\u001b[0m \u001b[0;34m=\u001b[0m \u001b[0mtorch\u001b[0m\u001b[0;34m.\u001b[0m\u001b[0mTensor\u001b[0m\u001b[0;34m(\u001b[0m\u001b[0mA\u001b[0m\u001b[0;34m)\u001b[0m\u001b[0;34m.\u001b[0m\u001b[0mcuda\u001b[0m\u001b[0;34m(\u001b[0m\u001b[0;34m)\u001b[0m\u001b[0;34m\u001b[0m\u001b[0m\n\u001b[0m\u001b[1;32m      2\u001b[0m \u001b[0mX\u001b[0m \u001b[0;34m=\u001b[0m \u001b[0mfeatures\u001b[0m\u001b[0;34m.\u001b[0m\u001b[0mcuda\u001b[0m\u001b[0;34m(\u001b[0m\u001b[0;34m)\u001b[0m\u001b[0;34m\u001b[0m\u001b[0m\n\u001b[1;32m      3\u001b[0m \u001b[0mS\u001b[0m \u001b[0;34m=\u001b[0m \u001b[0mtorch\u001b[0m\u001b[0;34m.\u001b[0m\u001b[0mTensor\u001b[0m\u001b[0;34m(\u001b[0m\u001b[0mS\u001b[0m\u001b[0;34m)\u001b[0m\u001b[0;34m.\u001b[0m\u001b[0mcuda\u001b[0m\u001b[0;34m(\u001b[0m\u001b[0;34m)\u001b[0m\u001b[0;34m\u001b[0m\u001b[0m\n\u001b[1;32m      4\u001b[0m \u001b[0mV\u001b[0m \u001b[0;34m=\u001b[0m \u001b[0mtorch\u001b[0m\u001b[0;34m.\u001b[0m\u001b[0mTensor\u001b[0m\u001b[0;34m(\u001b[0m\u001b[0mV\u001b[0m\u001b[0;34m)\u001b[0m\u001b[0;34m.\u001b[0m\u001b[0mcuda\u001b[0m\u001b[0;34m(\u001b[0m\u001b[0;34m)\u001b[0m\u001b[0;34m\u001b[0m\u001b[0m\n\u001b[1;32m      5\u001b[0m \u001b[0mw\u001b[0m \u001b[0;34m=\u001b[0m \u001b[0mtorch\u001b[0m\u001b[0;34m.\u001b[0m\u001b[0mTensor\u001b[0m\u001b[0;34m(\u001b[0m\u001b[0mnp\u001b[0m\u001b[0;34m.\u001b[0m\u001b[0mdiag\u001b[0m\u001b[0;34m(\u001b[0m\u001b[0mR\u001b[0m\u001b[0;34m)\u001b[0m\u001b[0;34m)\u001b[0m\u001b[0;34m.\u001b[0m\u001b[0mcuda\u001b[0m\u001b[0;34m(\u001b[0m\u001b[0;34m)\u001b[0m\u001b[0;34m\u001b[0m\u001b[0m\n",
      "\u001b[0;31mTypeError\u001b[0m: expected torch.FloatTensor (got torch.cuda.FloatTensor)"
     ]
    }
   ],
   "source": [
    "A = torch.Tensor(A).cuda()\n",
    "X = features.cuda()\n",
    "S = torch.Tensor(S).cuda()\n",
    "V = torch.Tensor(V).cuda()\n",
    "w = torch.Tensor(np.diag(R)).cuda()\n",
    "labels = torch.LongTensor(labels).cuda()"
   ]
  },
  {
   "cell_type": "code",
   "execution_count": 28,
   "metadata": {
    "ExecuteTime": {
     "end_time": "2018-12-18T23:44:30.625182Z",
     "start_time": "2018-12-18T23:44:30.604567Z"
    }
   },
   "outputs": [],
   "source": [
    "loss_train_vals = []\n",
    "loss_test_vals = []\n",
    "acc_train_vals = []\n",
    "acc_test_vals = []\n",
    "\n",
    "model = LanczosConvNet(k, feat_dim,  num_classes, short_scales, long_scales).cuda()\n",
    "optimizer = optim.Adam(model.parameters(), lr=lr)\n",
    "\n",
    "def train(epoch, eval_epoch=3):\n",
    "    model.train()\n",
    "    optimizer.zero_grad()\n",
    "    output = model(A, X, S, V, w)\n",
    "    loss_train = F.nll_loss(output[idx_train], labels[idx_train])\n",
    "    acc_train = accuracy(output[idx_train], labels[idx_train])\n",
    "    loss_train.backward()\n",
    "    optimizer.step()\n",
    "\n",
    "    model.eval()\n",
    "    output = model(A, X, S, V, w)\n",
    "\n",
    "    loss_val = F.nll_loss(output[idx_val], labels[idx_val])\n",
    "    acc_val = accuracy(output[idx_val], labels[idx_val])\n",
    "    \n",
    "    loss_train_vals.append(loss_train.item())\n",
    "    loss_test_vals.append(loss_val.item())\n",
    "    acc_train_vals.append(acc_train.item())\n",
    "    acc_test_vals.append(acc_val.item())\n",
    "    \n",
    "    if epoch > 0 and epoch%eval_epoch == 0:\n",
    "        \n",
    "        print('Epoch: {:04d}'.format(epoch+1),\n",
    "              'loss_train: {:.4f}'.format(loss_train_vals[-1]),\n",
    "              'acc_train: {:.4f}'.format(acc_train_vals[-1]),\n",
    "              'loss_val: {:.4f}'.format(loss_test_vals[-1]),\n",
    "              'acc_val: {:.4f}'.format(acc_test_vals[-1]))\n",
    "\n",
    "\n",
    "def test():\n",
    "    model.eval()\n",
    "    output = model(A, X, S, V, w)\n",
    "    loss_test = F.nll_loss(output[idx_test], labels[idx_test])\n",
    "    acc_test = accuracy(output[idx_test], labels[idx_test])\n",
    "    print(\"Test set results:\",\n",
    "          \"loss= {:.4f}\".format(loss_test.item()),\n",
    "          \"accuracy= {:.4f}\".format(acc_test.item()))"
   ]
  },
  {
   "cell_type": "code",
   "execution_count": 29,
   "metadata": {
    "ExecuteTime": {
     "end_time": "2018-12-18T23:45:32.647827Z",
     "start_time": "2018-12-18T23:44:31.383995Z"
    }
   },
   "outputs": [
    {
     "data": {
      "application/vnd.jupyter.widget-view+json": {
       "model_id": "af5abf665c0948238ac676f3ce658444",
       "version_major": 2,
       "version_minor": 0
      },
      "text/plain": [
       "A Jupyter Widget"
      ]
     },
     "metadata": {},
     "output_type": "display_data"
    },
    {
     "name": "stderr",
     "output_type": "stream",
     "text": [
      "/opt/anaconda/anaconda3/lib/python3.6/site-packages/ipykernel_launcher.py:17: UserWarning: Implicit dimension choice for log_softmax has been deprecated. Change the call to include dim=X as an argument.\n"
     ]
    },
    {
     "name": "stdout",
     "output_type": "stream",
     "text": [
      "Epoch: 0004 loss_train: 4990.6016 acc_train: 0.2357 loss_val: 2750.9805 acc_val: 0.1640\n",
      "Epoch: 0007 loss_train: 2619.0261 acc_train: 0.2857 loss_val: 1128.8781 acc_val: 0.3500\n",
      "Epoch: 0010 loss_train: 1235.5109 acc_train: 0.6214 loss_val: 1099.8651 acc_val: 0.5500\n",
      "Epoch: 0013 loss_train: 631.9789 acc_train: 0.7071 loss_val: 685.1377 acc_val: 0.6200\n",
      "Epoch: 0016 loss_train: 239.3647 acc_train: 0.8571 loss_val: 609.4673 acc_val: 0.6940\n",
      "Epoch: 0019 loss_train: 322.2289 acc_train: 0.8071 loss_val: 753.4612 acc_val: 0.6200\n",
      "Epoch: 0022 loss_train: 259.0063 acc_train: 0.8143 loss_val: 579.9990 acc_val: 0.7000\n",
      "Epoch: 0025 loss_train: 157.2566 acc_train: 0.8786 loss_val: 523.2261 acc_val: 0.7260\n",
      "Epoch: 0028 loss_train: 51.3290 acc_train: 0.9143 loss_val: 544.4069 acc_val: 0.6760\n",
      "Epoch: 0031 loss_train: 47.4581 acc_train: 0.9000 loss_val: 582.7641 acc_val: 0.6940\n",
      "Epoch: 0034 loss_train: 33.3463 acc_train: 0.9071 loss_val: 574.7156 acc_val: 0.6620\n",
      "Epoch: 0037 loss_train: 25.7965 acc_train: 0.9286 loss_val: 562.0912 acc_val: 0.6920\n",
      "Epoch: 0040 loss_train: 5.3651 acc_train: 0.9571 loss_val: 611.3682 acc_val: 0.6760\n",
      "Epoch: 0043 loss_train: 26.1749 acc_train: 0.9357 loss_val: 618.4403 acc_val: 0.6720\n",
      "Epoch: 0046 loss_train: 2.4618 acc_train: 0.9786 loss_val: 559.1622 acc_val: 0.6960\n",
      "Epoch: 0049 loss_train: 3.3199 acc_train: 0.9929 loss_val: 564.2857 acc_val: 0.6900\n",
      "Epoch: 0052 loss_train: 0.0769 acc_train: 0.9929 loss_val: 579.2058 acc_val: 0.6980\n",
      "Epoch: 0055 loss_train: 0.0000 acc_train: 1.0000 loss_val: 594.7739 acc_val: 0.7000\n",
      "Epoch: 0058 loss_train: 0.0000 acc_train: 1.0000 loss_val: 613.1068 acc_val: 0.6960\n",
      "Epoch: 0061 loss_train: 0.0000 acc_train: 1.0000 loss_val: 628.7884 acc_val: 0.7020\n",
      "Epoch: 0064 loss_train: 0.0000 acc_train: 1.0000 loss_val: 643.2420 acc_val: 0.7000\n",
      "Epoch: 0067 loss_train: 0.0000 acc_train: 1.0000 loss_val: 655.7883 acc_val: 0.6980\n",
      "Epoch: 0070 loss_train: 0.0000 acc_train: 1.0000 loss_val: 665.6996 acc_val: 0.6940\n",
      "Epoch: 0073 loss_train: 0.0000 acc_train: 1.0000 loss_val: 673.7222 acc_val: 0.6980\n",
      "Epoch: 0076 loss_train: 0.0000 acc_train: 1.0000 loss_val: 679.9758 acc_val: 0.6960\n",
      "Epoch: 0079 loss_train: 0.0000 acc_train: 1.0000 loss_val: 684.8203 acc_val: 0.6940\n",
      "\n",
      "\n",
      "min test loss: \t1074.5948486328125\n",
      "max test accuracy: \t0.726\n",
      "Test set results: loss= 644.9188 accuracy= 0.7110\n"
     ]
    },
    {
     "data": {
      "image/png": "[encoded data removed]",
      "text/plain": [
       "<Figure size 1080x432 with 2 Axes>"
      ]
     },
     "metadata": {},
     "output_type": "display_data"
    }
   ],
   "source": [
    "epochs=80\n",
    "for epoch in tqdm(range(epochs)):\n",
    "    train(epoch)\n",
    "print(f'\\nmin test loss: \\t{loss_test_vals[np.argmin(acc_test_vals)]}')\n",
    "print(f'max test accuracy: \\t{max(acc_test_vals)}')\n",
    "test()\n",
    "\n",
    "f, (ax1, ax2) = plt.subplots(1, 2, figsize=(15, 6))\n",
    "ax1.plot(loss_train_vals, label='train')\n",
    "ax1.plot(loss_test_vals, label='test')\n",
    "ax1.set_title('loss')\n",
    "ax1.legend()\n",
    "\n",
    "ax2.plot(acc_train_vals, label='train')\n",
    "ax2.plot(acc_test_vals, label='test')\n",
    "ax2.set_title('accuracy')\n",
    "ax2.legend()\n",
    "\n",
    "plt.show()"
   ]
  },
  {
   "cell_type": "code",
   "execution_count": null,
   "metadata": {
    "collapsed": true
   },
   "outputs": [],
   "source": []
  },
  {
   "cell_type": "code",
   "execution_count": null,
   "metadata": {
    "collapsed": true
   },
   "outputs": [],
   "source": []
  }
 ],
 "metadata": {
  "kernelspec": {
   "display_name": "Python 3",
   "language": "python",
   "name": "python3"
  },
  "language_info": {
   "codemirror_mode": {
    "name": "ipython",
    "version": 3
   },
   "file_extension": ".py",
   "mimetype": "text/x-python",
   "name": "python",
   "nbconvert_exporter": "python",
   "pygments_lexer": "ipython3",
   "version": "3.6.6"
  },
  "toc": {
   "base_numbering": 1,
   "nav_menu": {},
   "number_sections": true,
   "sideBar": true,
   "skip_h1_title": false,
   "title_cell": "Table of Contents",
   "title_sidebar": "Contents",
   "toc_cell": false,
   "toc_position": {},
   "toc_section_display": true,
   "toc_window_display": true
  },
  "varInspector": {
   "cols": {
    "lenName": 16,
    "lenType": 16,
    "lenVar": 40
   },
   "kernels_config": {
    "python": {
     "delete_cmd_postfix": "",
     "delete_cmd_prefix": "del ",
     "library": "var_list.py",
     "varRefreshCmd": "print(var_dic_list())"
    },
    "r": {
     "delete_cmd_postfix": ") ",
     "delete_cmd_prefix": "rm(",
     "library": "var_list.r",
     "varRefreshCmd": "cat(var_dic_list()) "
    }
   },
   "types_to_exclude": [
    "module",
    "function",
    "builtin_function_or_method",
    "instance",
    "_Feature"
   ],
   "window_display": false
  }
 },
 "nbformat": 4,
 "nbformat_minor": 2
}
