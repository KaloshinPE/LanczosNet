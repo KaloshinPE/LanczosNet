{
 "cells": [
  {
   "cell_type": "code",
   "execution_count": 1,
   "metadata": {
    "ExecuteTime": {
     "end_time": "2018-12-18T23:41:41.548705Z",
     "start_time": "2018-12-18T23:41:40.973693Z"
    }
   },
   "outputs": [],
   "source": [
    "import numpy as np\n",
    "import scipy\n",
    "from scipy.linalg import sqrtm\n",
    "import scipy.sparse as sp\n",
    "from scipy.sparse import coo_matrix, csr_matrix\n",
    "import matplotlib.pyplot as plt\n",
    "import networkx as nx\n",
    "from tqdm import tqdm_notebook as tqdm\n",
    "import torch\n",
    "from torch import nn\n",
    "import torch.nn.functional as F\n",
    "import torch.optim as optim\n",
    "from IPython.display import clear_output\n",
    "\n",
    "from lanczos import lanczos_algorithm, process_adjacency_matrix\n",
    "from pygcn.pygcn.utils import load_data, encode_onehot, normalize, accuracy\n",
    "from nn.layers import SpectralConv\n",
    "from pygcn.pygcn.layers import GraphConvolution\n",
    "\n",
    "%load_ext autoreload\n",
    "%autoreload 2\n",
    "%matplotlib inline\n",
    "plt.rcParams['figure.figsize'] = (7, 5)"
   ]
  },
  {
   "cell_type": "markdown",
   "metadata": {},
   "source": [
    "# Quora citation dataset"
   ]
  },
  {
   "cell_type": "markdown",
   "metadata": {},
   "source": [
    "# Pubmed"
   ]
  },
  {
   "cell_type": "code",
   "execution_count": null,
   "metadata": {},
   "outputs": [],
   "source": []
  },
  {
   "cell_type": "markdown",
   "metadata": {},
   "source": [
    "# CiteSeer data load"
   ]
  },
  {
   "cell_type": "code",
   "execution_count": 12,
   "metadata": {},
   "outputs": [],
   "source": [
    "from gcn.gcn.utils import load_data as gcn_load_data\n",
    "adj, features, y_train, y_val, y_test, train_mask, val_mask, test_mask = gcn_load_data('citeseer')"
   ]
  },
  {
   "cell_type": "markdown",
   "metadata": {},
   "source": [
    "## Data processing"
   ]
  },
  {
   "cell_type": "code",
   "execution_count": null,
   "metadata": {
    "ExecuteTime": {
     "end_time": "2018-12-18T23:41:46.133268Z",
     "start_time": "2018-12-18T23:41:41.973385Z"
    }
   },
   "outputs": [],
   "source": [
    "adj, features, labels, idx_train, idx_val, idx_test = load_data(path = 'pygcn/data/cora/')\n",
    "A = adj.detach().to_dense().numpy()"
   ]
  },
  {
   "cell_type": "code",
   "execution_count": null,
   "metadata": {},
   "outputs": [],
   "source": [
    "labels"
   ]
  },
  {
   "cell_type": "code",
   "execution_count": null,
   "metadata": {},
   "outputs": [],
   "source": [
    "features"
   ]
  },
  {
   "cell_type": "code",
   "execution_count": null,
   "metadata": {},
   "outputs": [],
   "source": [
    "A.shape"
   ]
  },
  {
   "cell_type": "code",
   "execution_count": null,
   "metadata": {},
   "outputs": [],
   "source": [
    "A"
   ]
  },
  {
   "cell_type": "code",
   "execution_count": null,
   "metadata": {
    "ExecuteTime": {
     "end_time": "2018-12-18T23:41:46.727256Z",
     "start_time": "2018-12-18T23:41:46.712018Z"
    }
   },
   "outputs": [],
   "source": [
    "A.sum(0)[:15]"
   ]
  },
  {
   "cell_type": "code",
   "execution_count": null,
   "metadata": {
    "ExecuteTime": {
     "end_time": "2018-12-18T23:41:47.579377Z",
     "start_time": "2018-12-18T23:41:47.298210Z"
    }
   },
   "outputs": [],
   "source": [
    "plt.hist(A.sum(0)[:1000], bins=100)\n",
    "plt.show()"
   ]
  },
  {
   "cell_type": "markdown",
   "metadata": {},
   "source": [
    "Looks like A is already normalized, and diagonal elements are nonzero. Maybe, we don't even need to calculate S? <br>\n",
    "UPD. A is slightly worse then S: max accuracy 84.6 in comparison to 84.  "
   ]
  },
  {
   "cell_type": "code",
   "execution_count": null,
   "metadata": {
    "ExecuteTime": {
     "end_time": "2018-12-18T23:44:23.789178Z",
     "start_time": "2018-12-18T23:41:48.206085Z"
    }
   },
   "outputs": [],
   "source": [
    "k=1000\n",
    "S, V, R = process_adjacency_matrix(A, k) #need only this one\n",
    "S, Q, T = process_adjacency_matrix(A, k, ritz=False)"
   ]
  },
  {
   "cell_type": "code",
   "execution_count": null,
   "metadata": {
    "ExecuteTime": {
     "end_time": "2018-12-18T23:44:25.792614Z",
     "start_time": "2018-12-18T23:44:24.601531Z"
    }
   },
   "outputs": [],
   "source": [
    "f, (ax1, ax2, ax3, ax4) = plt.subplots(1, 4, figsize=(15, 5))\n",
    "m1 = ax1.matshow(S[:20,:20])\n",
    "m2 = ax2.matshow(T[:20,:20])\n",
    "m3 = ax3.matshow((Q@T@Q.T)[:20,:20])\n",
    "m4 = ax4.matshow((V@R@V.T)[:20,:20])\n",
    "f.colorbar(m1, ax=ax1)\n",
    "f.colorbar(m2, ax=ax2)\n",
    "f.colorbar(m3, ax=ax3)\n",
    "f.colorbar(m4, ax=ax4)"
   ]
  },
  {
   "cell_type": "markdown",
   "metadata": {},
   "source": [
    "## Training"
   ]
  },
  {
   "cell_type": "code",
   "execution_count": null,
   "metadata": {
    "ExecuteTime": {
     "end_time": "2018-12-18T23:44:26.465250Z",
     "start_time": "2018-12-18T23:44:26.450843Z"
    }
   },
   "outputs": [],
   "source": [
    "class LanczosConvNet(nn.Module):\n",
    "    def __init__(self, k, feat_dim, num_classes, short_scales, long_scales):\n",
    "        super(LanczosConvNet, self).__init__()\n",
    "        self.spectral_conv = SpectralConv(k, short_scales, long_scales)\n",
    "        inner_dim = (len(short_scales)+len(long_scales))*feat_dim\n",
    "        \n",
    "        self.conv1 = GraphConvolution(inner_dim, 512)\n",
    "        self.conv2 = GraphConvolution(512, num_classes)\n",
    "                                      \n",
    "    def forward(self, adj, X, S, V, R):\n",
    "        features = self.spectral_conv(X, S, V, R)\n",
    "        Z = self.conv1(features, adj)\n",
    "        Z = self.conv2(Z, adj)        \n",
    "        \n",
    "        return F.log_softmax(Z)"
   ]
  },
  {
   "cell_type": "code",
   "execution_count": null,
   "metadata": {
    "ExecuteTime": {
     "end_time": "2018-12-18T23:44:27.200345Z",
     "start_time": "2018-12-18T23:44:27.143177Z"
    }
   },
   "outputs": [],
   "source": [
    "n = adj.shape[0]\n",
    "feat_dim = 1433\n",
    "short_scales = [1,3,5]\n",
    "long_scales = [10,20,30]\n",
    "num_classes = 7\n",
    "lr = 1e-2"
   ]
  },
  {
   "cell_type": "code",
   "execution_count": null,
   "metadata": {
    "ExecuteTime": {
     "end_time": "2018-12-18T23:44:29.859140Z",
     "start_time": "2018-12-18T23:44:27.848889Z"
    }
   },
   "outputs": [],
   "source": [
    "A = torch.Tensor(A).cuda()\n",
    "X = features.cuda()\n",
    "S = torch.Tensor(S).cuda()\n",
    "V = torch.Tensor(V).cuda()\n",
    "w = torch.Tensor(np.diag(R)).cuda()\n",
    "labels = labels.cuda()"
   ]
  },
  {
   "cell_type": "code",
   "execution_count": null,
   "metadata": {
    "ExecuteTime": {
     "end_time": "2018-12-18T23:44:30.625182Z",
     "start_time": "2018-12-18T23:44:30.604567Z"
    }
   },
   "outputs": [],
   "source": [
    "loss_train_vals = []\n",
    "loss_test_vals = []\n",
    "acc_train_vals = []\n",
    "acc_test_vals = []\n",
    "\n",
    "model = LanczosConvNet(k, feat_dim,  num_classes, short_scales, long_scales).cuda()\n",
    "optimizer = optim.Adam(model.parameters(), lr=lr)\n",
    "\n",
    "def train(epoch, eval_epoch=3):\n",
    "    model.train()\n",
    "    optimizer.zero_grad()\n",
    "    output = model(A, X, S, V, w)\n",
    "    loss_train = F.nll_loss(output[idx_train], labels[idx_train])\n",
    "    acc_train = accuracy(output[idx_train], labels[idx_train])\n",
    "    loss_train.backward()\n",
    "    optimizer.step()\n",
    "\n",
    "    model.eval()\n",
    "    output = model(A, X, S, V, w)\n",
    "\n",
    "    loss_val = F.nll_loss(output[idx_val], labels[idx_val])\n",
    "    acc_val = accuracy(output[idx_val], labels[idx_val])\n",
    "    \n",
    "    loss_train_vals.append(loss_train.item())\n",
    "    loss_test_vals.append(loss_val.item())\n",
    "    acc_train_vals.append(acc_train.item())\n",
    "    acc_test_vals.append(acc_val.item())\n",
    "    \n",
    "    if epoch > 0 and epoch%eval_epoch == 0:\n",
    "        clear_output()\n",
    "        \n",
    "        f, (ax1, ax2) = plt.subplots(1, 2, figsize=(15, 6))\n",
    "        ax1.plot(loss_train_vals, label='train')\n",
    "        ax1.plot(loss_test_vals, label='test')\n",
    "        ax1.set_title('loss')\n",
    "        ax1.legend()\n",
    "        \n",
    "        ax2.plot(acc_train_vals, label='train')\n",
    "        ax2.plot(acc_test_vals, label='test')\n",
    "        ax2.set_title('accuracy')\n",
    "        ax2.legend()\n",
    "        \n",
    "        plt.show()\n",
    "        \n",
    "        print('Epoch: {:04d}'.format(epoch+1),\n",
    "              'loss_train: {:.4f}'.format(loss_train_vals[-1]),\n",
    "              'acc_train: {:.4f}'.format(acc_train_vals[-1]),\n",
    "              'loss_val: {:.4f}'.format(loss_test_vals[-1]),\n",
    "              'acc_val: {:.4f}'.format(acc_test_vals[-1]))\n",
    "\n",
    "\n",
    "def test():\n",
    "    model.eval()\n",
    "    output = model(A, X, S, V, w)\n",
    "    loss_test = F.nll_loss(output[idx_test], labels[idx_test])\n",
    "    acc_test = accuracy(output[idx_test], labels[idx_test])\n",
    "    print(\"Test set results:\",\n",
    "          \"loss= {:.4f}\".format(loss_test.item()),\n",
    "          \"accuracy= {:.4f}\".format(acc_test.item()))"
   ]
  },
  {
   "cell_type": "code",
   "execution_count": null,
   "metadata": {
    "ExecuteTime": {
     "end_time": "2018-12-18T23:45:32.647827Z",
     "start_time": "2018-12-18T23:44:31.383995Z"
    }
   },
   "outputs": [],
   "source": [
    "epochs=80\n",
    "for epoch in tqdm(range(epochs)):\n",
    "    train(epoch)\n",
    "print(f'\\nmin test loss: \\t{loss_test_vals[np.argmin(acc_test_vals)]}')\n",
    "print(f'max test accuracy: \\t{max(acc_test_vals)}')"
   ]
  },
  {
   "cell_type": "code",
   "execution_count": null,
   "metadata": {},
   "outputs": [],
   "source": []
  }
 ],
 "metadata": {
  "kernelspec": {
   "display_name": "tensorflow",
   "language": "python",
   "name": "tensorflow"
  },
  "language_info": {
   "codemirror_mode": {
    "name": "ipython",
    "version": 3
   },
   "file_extension": ".py",
   "mimetype": "text/x-python",
   "name": "python",
   "nbconvert_exporter": "python",
   "pygments_lexer": "ipython3",
   "version": "3.6.2"
  },
  "toc": {
   "base_numbering": 1,
   "nav_menu": {},
   "number_sections": true,
   "sideBar": true,
   "skip_h1_title": false,
   "title_cell": "Table of Contents",
   "title_sidebar": "Contents",
   "toc_cell": false,
   "toc_position": {},
   "toc_section_display": true,
   "toc_window_display": true
  },
  "varInspector": {
   "cols": {
    "lenName": 16,
    "lenType": 16,
    "lenVar": 40
   },
   "kernels_config": {
    "python": {
     "delete_cmd_postfix": "",
     "delete_cmd_prefix": "del ",
     "library": "var_list.py",
     "varRefreshCmd": "print(var_dic_list())"
    },
    "r": {
     "delete_cmd_postfix": ") ",
     "delete_cmd_prefix": "rm(",
     "library": "var_list.r",
     "varRefreshCmd": "cat(var_dic_list()) "
    }
   },
   "types_to_exclude": [
    "module",
    "function",
    "builtin_function_or_method",
    "instance",
    "_Feature"
   ],
   "window_display": false
  }
 },
 "nbformat": 4,
 "nbformat_minor": 2
}
